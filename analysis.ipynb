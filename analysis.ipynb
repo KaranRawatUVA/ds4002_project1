{
 "cells": [
  {
   "cell_type": "code",
   "execution_count": 51,
   "metadata": {},
   "outputs": [],
   "source": [
    "import pandas as pd \n",
    "from scipy.stats import pointbiserialr\n"
   ]
  },
  {
   "cell_type": "markdown",
   "metadata": {},
   "source": [
    "## Prep Data"
   ]
  },
  {
   "cell_type": "code",
   "execution_count": 52,
   "metadata": {},
   "outputs": [
    {
     "data": {
      "text/html": [
       "<div>\n",
       "<style scoped>\n",
       "    .dataframe tbody tr th:only-of-type {\n",
       "        vertical-align: middle;\n",
       "    }\n",
       "\n",
       "    .dataframe tbody tr th {\n",
       "        vertical-align: top;\n",
       "    }\n",
       "\n",
       "    .dataframe thead th {\n",
       "        text-align: right;\n",
       "    }\n",
       "</style>\n",
       "<table border=\"1\" class=\"dataframe\">\n",
       "  <thead>\n",
       "    <tr style=\"text-align: right;\">\n",
       "      <th></th>\n",
       "      <th>Name</th>\n",
       "      <th>Unifying Words Count</th>\n",
       "      <th>Polarizing Words Count</th>\n",
       "      <th>Total Words Count</th>\n",
       "      <th>Political Party</th>\n",
       "      <th>Overall Language</th>\n",
       "      <th>Unifying Words Ratio</th>\n",
       "      <th>Polarizing Words Ratio</th>\n",
       "      <th>Overall Ratio</th>\n",
       "    </tr>\n",
       "  </thead>\n",
       "  <tbody>\n",
       "    <tr>\n",
       "      <th>0</th>\n",
       "      <td>Donald J. Trump (2nd Term)</td>\n",
       "      <td>20</td>\n",
       "      <td>23</td>\n",
       "      <td>2905</td>\n",
       "      <td>Republican</td>\n",
       "      <td>polarizing</td>\n",
       "      <td>0.00688</td>\n",
       "      <td>0.00792</td>\n",
       "      <td>0.8687</td>\n",
       "    </tr>\n",
       "    <tr>\n",
       "      <th>1</th>\n",
       "      <td>Joseph R. Biden, Jr.</td>\n",
       "      <td>31</td>\n",
       "      <td>6</td>\n",
       "      <td>2532</td>\n",
       "      <td>Democrat</td>\n",
       "      <td>unifying</td>\n",
       "      <td>0.01224</td>\n",
       "      <td>0.00237</td>\n",
       "      <td>5.1646</td>\n",
       "    </tr>\n",
       "    <tr>\n",
       "      <th>2</th>\n",
       "      <td>Donald J. Trump (1st Term)</td>\n",
       "      <td>12</td>\n",
       "      <td>4</td>\n",
       "      <td>1455</td>\n",
       "      <td>Republican</td>\n",
       "      <td>unifying</td>\n",
       "      <td>0.00825</td>\n",
       "      <td>0.00275</td>\n",
       "      <td>3.0000</td>\n",
       "    </tr>\n",
       "    <tr>\n",
       "      <th>3</th>\n",
       "      <td>Barack Obama</td>\n",
       "      <td>15</td>\n",
       "      <td>5</td>\n",
       "      <td>2090</td>\n",
       "      <td>Democrat</td>\n",
       "      <td>unifying</td>\n",
       "      <td>0.00718</td>\n",
       "      <td>0.00239</td>\n",
       "      <td>3.0042</td>\n",
       "    </tr>\n",
       "    <tr>\n",
       "      <th>4</th>\n",
       "      <td>Barack Obama</td>\n",
       "      <td>13</td>\n",
       "      <td>15</td>\n",
       "      <td>2391</td>\n",
       "      <td>Democrat</td>\n",
       "      <td>polarizing</td>\n",
       "      <td>0.00544</td>\n",
       "      <td>0.00627</td>\n",
       "      <td>0.8676</td>\n",
       "    </tr>\n",
       "  </tbody>\n",
       "</table>\n",
       "</div>"
      ],
      "text/plain": [
       "                         Name  Unifying Words Count  Polarizing Words Count  \\\n",
       "0  Donald J. Trump (2nd Term)                    20                      23   \n",
       "1        Joseph R. Biden, Jr.                    31                       6   \n",
       "2  Donald J. Trump (1st Term)                    12                       4   \n",
       "3                Barack Obama                    15                       5   \n",
       "4                Barack Obama                    13                      15   \n",
       "\n",
       "   Total Words Count Political Party Overall Language  Unifying Words Ratio  \\\n",
       "0               2905      Republican       polarizing               0.00688   \n",
       "1               2532        Democrat         unifying               0.01224   \n",
       "2               1455      Republican         unifying               0.00825   \n",
       "3               2090        Democrat         unifying               0.00718   \n",
       "4               2391        Democrat       polarizing               0.00544   \n",
       "\n",
       "   Polarizing Words Ratio  Overall Ratio  \n",
       "0                 0.00792         0.8687  \n",
       "1                 0.00237         5.1646  \n",
       "2                 0.00275         3.0000  \n",
       "3                 0.00239         3.0042  \n",
       "4                 0.00627         0.8676  "
      ]
     },
     "execution_count": 52,
     "metadata": {},
     "output_type": "execute_result"
    }
   ],
   "source": [
    "df = pd.read_csv(\"./speech_data.csv\")\n",
    "\n",
    "# Subset data with Republican or Democratic Presidents \n",
    "df2 = df[(df[\"Political Party\"] == \"Republican\")|(df[\"Political Party\"] == \"Democrat\")].copy()\n",
    "\n",
    "df2[\"Political Party\"].unique()\n",
    "df2.head()"
   ]
  },
  {
   "cell_type": "code",
   "execution_count": 53,
   "metadata": {},
   "outputs": [
    {
     "data": {
      "text/html": [
       "<div>\n",
       "<style scoped>\n",
       "    .dataframe tbody tr th:only-of-type {\n",
       "        vertical-align: middle;\n",
       "    }\n",
       "\n",
       "    .dataframe tbody tr th {\n",
       "        vertical-align: top;\n",
       "    }\n",
       "\n",
       "    .dataframe thead th {\n",
       "        text-align: right;\n",
       "    }\n",
       "</style>\n",
       "<table border=\"1\" class=\"dataframe\">\n",
       "  <thead>\n",
       "    <tr style=\"text-align: right;\">\n",
       "      <th></th>\n",
       "      <th>Name</th>\n",
       "      <th>Unifying Words Count</th>\n",
       "      <th>Polarizing Words Count</th>\n",
       "      <th>Total Words Count</th>\n",
       "      <th>Political Party</th>\n",
       "      <th>Overall Language</th>\n",
       "      <th>Unifying Words Ratio</th>\n",
       "      <th>Polarizing Words Ratio</th>\n",
       "      <th>Overall Ratio</th>\n",
       "    </tr>\n",
       "  </thead>\n",
       "  <tbody>\n",
       "    <tr>\n",
       "      <th>0</th>\n",
       "      <td>Donald J. Trump (2nd Term)</td>\n",
       "      <td>20</td>\n",
       "      <td>23</td>\n",
       "      <td>2905</td>\n",
       "      <td>0</td>\n",
       "      <td>polarizing</td>\n",
       "      <td>0.00688</td>\n",
       "      <td>0.00792</td>\n",
       "      <td>0.8687</td>\n",
       "    </tr>\n",
       "    <tr>\n",
       "      <th>1</th>\n",
       "      <td>Joseph R. Biden, Jr.</td>\n",
       "      <td>31</td>\n",
       "      <td>6</td>\n",
       "      <td>2532</td>\n",
       "      <td>1</td>\n",
       "      <td>unifying</td>\n",
       "      <td>0.01224</td>\n",
       "      <td>0.00237</td>\n",
       "      <td>5.1646</td>\n",
       "    </tr>\n",
       "    <tr>\n",
       "      <th>2</th>\n",
       "      <td>Donald J. Trump (1st Term)</td>\n",
       "      <td>12</td>\n",
       "      <td>4</td>\n",
       "      <td>1455</td>\n",
       "      <td>0</td>\n",
       "      <td>unifying</td>\n",
       "      <td>0.00825</td>\n",
       "      <td>0.00275</td>\n",
       "      <td>3.0000</td>\n",
       "    </tr>\n",
       "  </tbody>\n",
       "</table>\n",
       "</div>"
      ],
      "text/plain": [
       "                         Name  Unifying Words Count  Polarizing Words Count  \\\n",
       "0  Donald J. Trump (2nd Term)                    20                      23   \n",
       "1        Joseph R. Biden, Jr.                    31                       6   \n",
       "2  Donald J. Trump (1st Term)                    12                       4   \n",
       "\n",
       "   Total Words Count  Political Party Overall Language  Unifying Words Ratio  \\\n",
       "0               2905                0       polarizing               0.00688   \n",
       "1               2532                1         unifying               0.01224   \n",
       "2               1455                0         unifying               0.00825   \n",
       "\n",
       "   Polarizing Words Ratio  Overall Ratio  \n",
       "0                 0.00792         0.8687  \n",
       "1                 0.00237         5.1646  \n",
       "2                 0.00275         3.0000  "
      ]
     },
     "execution_count": 53,
     "metadata": {},
     "output_type": "execute_result"
    }
   ],
   "source": [
    "# Encode Political Party as a binary variable for point biserial correlation analysis \n",
    "\n",
    "df2['Political Party'] = df2['Political Party'].map({'Republican': 0, 'Democrat': 1})\n",
    "df2.head(3)"
   ]
  },
  {
   "cell_type": "markdown",
   "metadata": {},
   "source": [
    "## Conduct Analysis: Point Biserial Correlation"
   ]
  },
  {
   "cell_type": "code",
   "execution_count": 58,
   "metadata": {},
   "outputs": [
    {
     "name": "stdout",
     "output_type": "stream",
     "text": [
      "Correlation: 0.01333\n",
      "p-value: 0.92681\n"
     ]
    }
   ],
   "source": [
    "correlation, p_value = pointbiserialr(df2['Political Party'], df2['Overall Ratio'])\n",
    "\n",
    "print(\"Correlation:\", round(correlation, 5))\n",
    "print(\"p-value:\", round(p_value, 5))"
   ]
  },
  {
   "cell_type": "markdown",
   "metadata": {},
   "source": [
    "This did not yield very statistically significant results nor any strong relationship between political party and primary type of language used. Let's try some other methods..."
   ]
  },
  {
   "cell_type": "markdown",
   "metadata": {},
   "source": [
    "## Trying Logistic Regression"
   ]
  },
  {
   "cell_type": "markdown",
   "metadata": {},
   "source": [
    "### Fit a Kitchen Sink Model (all features)"
   ]
  },
  {
   "cell_type": "code",
   "execution_count": 59,
   "metadata": {},
   "outputs": [
    {
     "name": "stdout",
     "output_type": "stream",
     "text": [
      "Training Accuracy: 0.6\n",
      "Testing Accuracy: 0.3\n",
      "\n",
      "Confusion Matrix:\n",
      " [[1 4]\n",
      " [3 2]]\n",
      "\n",
      "Classification Report:\n",
      "               precision    recall  f1-score   support\n",
      "\n",
      "           0       0.25      0.20      0.22         5\n",
      "           1       0.33      0.40      0.36         5\n",
      "\n",
      "    accuracy                           0.30        10\n",
      "   macro avg       0.29      0.30      0.29        10\n",
      "weighted avg       0.29      0.30      0.29        10\n",
      "\n"
     ]
    }
   ],
   "source": [
    "from sklearn.linear_model import LogisticRegression\n",
    "from sklearn.metrics import accuracy_score, confusion_matrix, classification_report\n",
    "from sklearn.model_selection import train_test_split\n",
    "\n",
    "# Feature and target selection\n",
    "X = df2.drop(columns=['Political Party', \"Name\", \"Overall Language\"]) # X = df2[[\"Political Party\"]]\n",
    "y = df2['Political Party']\n",
    "\n",
    "# Split the data into training and testing sets (80% train, 20% test)\n",
    "X_train, X_test, y_train, y_test = train_test_split(X, y, test_size=0.2, random_state=42, stratify=y)\n",
    "\n",
    "# Create and train the logistic regression model\n",
    "model = LogisticRegression()\n",
    "model.fit(X_train, y_train)\n",
    "\n",
    "# Make predictions on the test set\n",
    "predictions = model.predict(X_test)\n",
    "\n",
    "# Evaluate the model\n",
    "print(\"Training Accuracy:\", model.score(X_train, y_train))\n",
    "print(\"Testing Accuracy:\", accuracy_score(y_test, predictions))\n",
    "print(\"\\nConfusion Matrix:\\n\", confusion_matrix(y_test, predictions))\n",
    "print(\"\\nClassification Report:\\n\", classification_report(y_test, predictions))\n"
   ]
  },
  {
   "cell_type": "markdown",
   "metadata": {},
   "source": [
    "### Viewing Feature Importance "
   ]
  },
  {
   "cell_type": "code",
   "execution_count": 60,
   "metadata": {},
   "outputs": [
    {
     "name": "stdout",
     "output_type": "stream",
     "text": [
      "Feature Importance for Logistic Regression:\n",
      "                  Feature  Coefficient\n",
      "0    Unifying Words Count     0.078096\n",
      "1  Polarizing Words Count     0.008431\n",
      "2       Total Words Count    -0.000780\n",
      "3    Unifying Words Ratio     0.002653\n",
      "4  Polarizing Words Ratio     0.002131\n",
      "5           Overall Ratio     0.019097\n"
     ]
    }
   ],
   "source": [
    "# Extract feature coefficients\n",
    "coefficients = model.coef_[0]\n",
    "features = X_train.columns\n",
    "\n",
    "# Create a DataFrame for better readability\n",
    "feature_importance = pd.DataFrame({'Feature': features, 'Coefficient': coefficients})\n",
    "# feature_importance['Absolute Coefficient'] = np.abs(feature_importance['Coefficient'])\n",
    "# feature_importance = feature_importance.sort_values(by='Absolute Coefficient', ascending=False)\n",
    "\n",
    "print(\"Feature Importance for Logistic Regression:\")\n",
    "print(feature_importance)\n"
   ]
  },
  {
   "cell_type": "markdown",
   "metadata": {},
   "source": [
    "### Trying Decision Trees "
   ]
  },
  {
   "cell_type": "code",
   "execution_count": null,
   "metadata": {},
   "outputs": [],
   "source": [
    "# DO LATER "
   ]
  }
 ],
 "metadata": {
  "kernelspec": {
   "display_name": "base",
   "language": "python",
   "name": "base"
  },
  "language_info": {
   "codemirror_mode": {
    "name": "ipython",
    "version": 3
   },
   "file_extension": ".py",
   "mimetype": "text/x-python",
   "name": "python",
   "nbconvert_exporter": "python",
   "pygments_lexer": "ipython3",
   "version": "3.12.2"
  }
 },
 "nbformat": 4,
 "nbformat_minor": 2
}
